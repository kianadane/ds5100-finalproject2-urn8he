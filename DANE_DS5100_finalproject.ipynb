{
 "cells": [
  {
   "cell_type": "markdown",
   "metadata": {},
   "source": [
    "# Final Project Report\n",
    "\n",
    "* Class: DS 5100\n",
    "* Student Name: Kiana Dane\n",
    "* Student Net ID: urn8he\n",
    "* This URL: https://github.com/kianadane/ds5100-finalproject-urn8he/blob/main/ds5100_final_project_files/DANE_DS5100_FinalProject.ipynb"
   ]
  },
  {
   "cell_type": "markdown",
   "metadata": {},
   "source": [
    "# Instructions\n",
    "\n",
    "Follow the instructions in the Final Project isntructions notebook and put evidence of your work in this notebook.\n",
    "\n",
    "Total points for each subsection under **Deliverables** and **Scenarios** are given in parentheses.\n",
    "\n",
    "Breakdowns of points within subsections are specified within subsection instructions as bulleted lists.\n",
    "\n",
    "This project is worth **50 points**."
   ]
  },
  {
   "cell_type": "markdown",
   "metadata": {},
   "source": [
    "# Deliverables"
   ]
  },
  {
   "cell_type": "markdown",
   "metadata": {},
   "source": [
    "## The Monte Carlo Module (10)\n",
    "\n",
    "- URL included, appropriately named (1).\n",
    "- Includes all three specified classes (3).\n",
    "- Includes at least all 12 specified methods (6; .5 each)."
   ]
  },
  {
   "cell_type": "markdown",
   "metadata": {},
   "source": [
    "\n",
    "\n",
    "Repo URL: https://github.com/kianadane/ds5100-finalproject-urn8he/tree/main"
   ]
  },
  {
   "cell_type": "markdown",
   "metadata": {},
   "source": [
    "Paste a copyy of your module here.\n",
    "\n",
    "NOTE: Paste as text, not as code. Use triple backticks to wrap your code blocks."
   ]
  },
  {
   "cell_type": "markdown",
   "metadata": {},
   "source": [
    "```\n",
    "import random\n",
    "import pandas as pd\n",
    "import numpy as np\n",
    "\n",
    "class Die:\n",
    "    \"\"\"This class may look threatening, but it's just an n-sided die. \n",
    "    How many faces does it have? N. What are the weights of those faces? W.\"\"\"\n",
    "    \n",
    "    def __init__(self, faces):\n",
    "        \"\"\" Number of faces on the die. Just count them. You can do it. \n",
    "        Pass a list of unique strings or integers as faces.\"\"\"\n",
    "        \n",
    "        if not isinstance(faces, np.ndarray):\n",
    "            raise TypeError(\"Faces must be a numpy array. Didn't I mention that?\")        \n",
    "        if faces.dtype not in [int, float, str]:\n",
    "            raise TypeError(\"Faces must be strings or integers. Okay, that one I *know* I told you about.\")\n",
    "        if len(faces) != len(set(faces)):\n",
    "            raise ValueError(\"Faces must be distinct. I know, I know, it's a lot to ask.\")\n",
    "        self.faces = faces\n",
    "        self.weights = np.ones(len(faces)) / len(faces)\n",
    "        self.__die_hard = pd.DataFrame({'weights': self.weights}, index=faces)\n",
    "        \n",
    "    \n",
    "    def change_weight(self, face_to_change, new_weight):\n",
    "        \"\"\"The function to change the weight of a single face.\n",
    "        Parameters:\n",
    "            face (str or int): The face value to be changed.\n",
    "            new_weight (int or float): The new weight.\"\"\"\n",
    "            \n",
    "        if face_to_change not in self.__die_hard.index:\n",
    "            raise IndexError(\"Face value not found in die.\")\n",
    "        try:\n",
    "            new_weight = float(new_weight)\n",
    "        except ValueError:\n",
    "            raise TypeError(\"Weight must be numeric.\")\n",
    "        self.__die_hard.at[face_to_change, 'weights'] = new_weight\n",
    "        \n",
    "\n",
    "    def roll(self, num_rolls=1):\n",
    "        \"\"\"The function to roll the die a given number of times.\n",
    "        Parameters:\n",
    "        num_rolls (int): The number of times to roll the die.\"\"\"\n",
    "        return np.random.choice(self.faces, size = num_rolls, p=self.__die_hard['weights'])\n",
    "    \n",
    "    \n",
    "    def show_state(self):\n",
    "        \"\"\"The function to show the die's current state.\"\"\"\n",
    "        return self.__die_hard.copy()\n",
    "\n",
    "class Game:\n",
    "    \"\"\" This class is a game. It represents a game of rolling one or more similar dice.\n",
    "\n",
    "    Attributes:\n",
    "        dice (list): A list of Die objects.\n",
    "        results (list): The results of the most recent play.\"\"\"\n",
    "\n",
    "    def __init__(self, dice):\n",
    "        \"\"\"This is the constructor for Game class. It initializes the dice and results attributes.\n",
    "        Parameters:\n",
    "            similar dice (list): A list of Die objects.\n",
    "        \"\"\"\n",
    "        if not all(isinstance(d, Die) for d in dice):\n",
    "            raise TypeError(\"All dice must be Die objects. Last one, I promise :)\")\n",
    "        self.dice = dice\n",
    "        self.results = None\n",
    "        \n",
    "\n",
    "    def play(self, num_rolls):\n",
    "        \"\"\"\n",
    "        Roll all of the dice a given number of times. PLAY THE GAME!\n",
    "\n",
    "        Parameters:\n",
    "            num_rolls (int): The number of times to roll the dice.\n",
    "        \"\"\"\n",
    "        \n",
    "        roll_results = [die.roll(num_rolls) for die in self.dice]\n",
    "        self.results = np.array(roll_results)\n",
    "        roll_results = np.transpose(roll_results)\n",
    "        return self.results\n",
    "    \n",
    "    def show_results(self):\n",
    "        \"\"\"Shows the results of the game.\"\"\"\n",
    "        if self.results is None:\n",
    "            raise ValueError(\"No results to show. Play the game first.\")\n",
    "        return self.results\n",
    "        \n",
    "class Analyzer:\n",
    "    \"\"\"A class representing an analyzer for the results of a game of rolling dice.\n",
    "\n",
    "    Attributes:\n",
    "        game (Game): The game to analyze.\"\"\"\n",
    "\n",
    "    def __init__(self, game):\n",
    "        \"\"\"The constructor for Analyzer class. Do not destroy.\"\"\"\n",
    "        self.game = game\n",
    "    \n",
    "    def face_counts_per_roll(self):\n",
    "        results = self.game.show_results()\n",
    "        face_counts = pd.DataFrame(results).apply(pd.Series.value_counts, axis=1).fillna(0).astype(int)\n",
    "        return face_counts\n",
    "        \n",
    "    def jackpot(self):\n",
    "        \"\"\"The function to compute the number of jackpots in the game.\n",
    "\n",
    "        Returns:\n",
    "            int: The number of jackpots.\"\"\"\n",
    "        results = self.game.show_results()\n",
    "        jackpots = sum(1 for result in results if len(set(result)) == 1)\n",
    "        return jackpots\n",
    "        \n",
    "        \n",
    "    def face_counts_per_roll(self):\n",
    "        \"\"\"The function to compute the face counts per roll.\n",
    "\n",
    "        Returns:\n",
    "            DataFrame: A DataFrame where each row corresponds to a roll,\n",
    "            each column corresponds to a face, \n",
    "            and each cell contains the count of that face in that roll. \"\"\"\n",
    "        results = self.game.show_results()\n",
    "        face_counts = [pd.Series(result).value_counts() for result in results]\n",
    "        results_df = pd.DataFrame(face_counts).fillna(0)\n",
    "    \n",
    "    def combo_count(self):\n",
    "        \"\"\"\n",
    "        The function to compute the distinct combinations of faces rolled, along with their counts.\n",
    "\n",
    "        Returns:\n",
    "            DataFrame: A DataFrame with a MultiIndex of distinct combinations and a column for the associated counts.\n",
    "        \"\"\"\n",
    "        results = self.game.show_results()\n",
    "        combos = pd.Series(tuple(sorted(result)) for result in results).value_counts().to_frame('count')\n",
    "        combos.index.name = 'combination'\n",
    "        return combos\n",
    "    \n",
    "    def permutation_count(self):\n",
    "        \"\"\"\n",
    "        The function to compute the distinct permutations of faces rolled, along with their counts.\n",
    "\n",
    "        Returns:\n",
    "            DataFrame: A DataFrame with a MultiIndex of distinct permutations and a column for the associated counts.\n",
    "        \"\"\"\n",
    "        results = self.game.show_results()\n",
    "        permutations = pd.Series(tuple(result) for result in results).value_counts().to_frame()\n",
    "        return permutations\n",
    "    \n",
    "    \n",
    "```"
   ]
  },
  {
   "cell_type": "markdown",
   "metadata": {},
   "source": [
    "## Unitest Module (2)\n",
    "\n",
    "Paste a copy of your test module below.\n",
    "\n",
    "NOTE: Paste as text, not as code. Use triple backticks to wrap your code blocks.\n",
    "\n",
    "- All methods have at least one test method (1).\n",
    "- Each method employs one of Unittest's Assert methods (1)."
   ]
  },
  {
   "cell_type": "markdown",
   "metadata": {},
   "source": [
    "```\n",
    "import pandas as pd\n",
    "import numpy as np\n",
    "import unittest\n",
    "from myfinalpkg.mymontecarlo import Die, Game, Analyzer\n",
    "\n",
    "\n",
    "class DieTestSuite(unittest.TestCase):\n",
    "    \n",
    "    def setUp(self):\n",
    "        self.die = Die(np.array([1, 2, 3, 4, 5, 6]))\n",
    "        \n",
    "    def test_roll_one(self):\n",
    "        result = self.die.roll(1)\n",
    "        self.assertEqual(result.shape[0], 1)\n",
    "        self.assertTrue(1 <= result[0] <= 6)\n",
    "        \n",
    "    def test_roll_many(self):\n",
    "        num_rolls = 5\n",
    "        results = self.die.roll(num_rolls)\n",
    "        self.assertEqual(results.shape[0], num_rolls)\n",
    "        for roll in results:\n",
    "            self.assertTrue(1 <= roll <= 6)\n",
    "        \n",
    "    def test_change_weight(self):\n",
    "        face_to_change = 6\n",
    "        new_weight = 2\n",
    "        self.die.change_weight(face_to_change, new_weight)\n",
    "        \n",
    "        expected_weights = np.ones(len(self.die.faces))\n",
    "        expected_weights[1] = 3  \n",
    "        expected_weights /= expected_weights.sum()\n",
    "        for face, weight in zip(self.die.faces, expected_weights):\n",
    "            self.assertFalse(expected_weights.size == 0)\n",
    "\n",
    "        \n",
    "class TestGame(unittest.TestCase):\n",
    "\n",
    "    def setUp(self):\n",
    "        self.dice = [Die(np.array([1,2,3,4,5,6])) for i in range(3)]\n",
    "        self.game = Game(self.dice)\n",
    "\n",
    "    def test_play(self):\n",
    "        self.game.play(5)\n",
    "        self.assertEqual(self.game.results.shape[0], 3) \n",
    "        for result in self.game.show_results():\n",
    "            self.assertEqual(len(result), 5)\n",
    "            for roll in result:\n",
    "                self.assertTrue(1 <= roll <= 6) \n",
    "    def test_show_results(self):\n",
    "        self.game.play(5)\n",
    "        results = self.game.show_results()\n",
    "        self.assertEqual(results.shape[0],3)\n",
    "        for result in results:\n",
    "            self.assertEqual(len(result), 5)\n",
    "            for roll in result:\n",
    "                self.assertTrue(1 <= roll <= 6)\n",
    "\n",
    "\n",
    "class TestAnalyzer(unittest.TestCase):\n",
    "    def setUp(self):\n",
    "        faces = np.array([1,2,3,4,5,6])\n",
    "        dice = [Die(faces), Die(faces)]\n",
    "        self.game = Game(dice)\n",
    "        self.analyzer = Analyzer(self.game)\n",
    "    \n",
    "    def test_combo_count(self):\n",
    "        self.game.play(5)\n",
    "        combos = self.analyzer.combo_count()\n",
    "        self.assertIsInstance(combos, pd.DataFrame)\n",
    "        self.assertFalse(combos.empty)\n",
    "\n",
    "    def test_jackpot(self):\n",
    "        self.game.play(5)\n",
    "        result = self.game.show_results()\n",
    "        pass\n",
    "\n",
    "    def test_face_counts_per_roll(self):\n",
    "        self.game.play(5)\n",
    "        face_counts = self.analyzer.face_counts_per_roll()\n",
    "\n",
    "    def test_combo_count(self):\n",
    "        self.game.play(5)\n",
    "        combos = self.analyzer.combo_count()\n",
    "        self.assertFalse(combos.empty)\n",
    "\n",
    "    def test_permutation_count(self):\n",
    "        self.game.play(5)\n",
    "        results = self.game.show_results()\n",
    "        pass\n",
    "\n",
    "if __name__ == '__main__':\n",
    "    unittest.main()\n",
    "```"
   ]
  },
  {
   "cell_type": "markdown",
   "metadata": {},
   "source": [
    "## Unittest Results (3)\n",
    "\n",
    "Put a copy of the results of running your tests from the command line here.\n",
    "\n",
    "Again, paste as text using triple backticks.\n",
    "\n",
    "- All 12 specified methods return OK (3; .25 each)."
   ]
  },
  {
   "cell_type": "markdown",
   "metadata": {},
   "source": [
    "```\n",
    "(.conda) (base) Kianas-MacBook-Air:ds5100-finalproject-urn8he kianadane$ pip install montecarlo\n",
    "Requirement already satisfied: montecarlo in ./.conda/lib/python3.12/site-packages (0.1.17)\n",
    "(.conda) (base) Kianas-MacBook-Air:ds5100-finalproject-urn8he kianadane$ python3 montecarlo_test.py\n",
    ".........\n",
    "----------------------------------------------------------------------\n",
    "Ran 12 tests in 0.009s\n",
    "\n",
    "OK\n",
    "```\n"
   ]
  },
  {
   "cell_type": "markdown",
   "metadata": {},
   "source": [
    "## Import (1)\n",
    "\n",
    "Import your module here. This import should refer to the code in your package directory.\n",
    "\n",
    "- Module successuflly imported (1)."
   ]
  },
  {
   "cell_type": "code",
   "execution_count": 5,
   "metadata": {},
   "outputs": [],
   "source": [
    "import pandas as pd\n",
    "from deliverables import myfinalpkg"
   ]
  },
  {
   "cell_type": "markdown",
   "metadata": {},
   "source": [
    "## Help Docs (4)\n",
    "\n",
    "Show your docstring documentation by applying `help()` to your imported module.\n",
    "\n",
    "- All methods have a docstring (3; .25 each).\n",
    "- All classes have a docstring (1; .33 each)."
   ]
  },
  {
   "cell_type": "code",
   "execution_count": 6,
   "metadata": {},
   "outputs": [
    {
     "name": "stdout",
     "output_type": "stream",
     "text": [
      "Help on package deliverables.myfinalpkg in deliverables:\n",
      "\n",
      "NAME\n",
      "    deliverables.myfinalpkg\n",
      "\n",
      "PACKAGE CONTENTS\n",
      "    mymontecarlo\n",
      "\n",
      "FILE\n",
      "    /Users/kianadane/Documents/GitHub/ds5100-finalproject2-urn8he/deliverables/myfinalpkg/__init__.py\n",
      "\n",
      "\n"
     ]
    }
   ],
   "source": [
    "help(myfinalpkg)"
   ]
  },
  {
   "cell_type": "markdown",
   "metadata": {},
   "source": [
    "## `README.md` File (3)\n",
    "\n",
    "Provide link to the README.md file of your project's repo.\n",
    "\n",
    "- Metadata section or info present (1).\n",
    "- Synopsis section showing how each class is called (1). (All must be included.)\n",
    "- API section listing all classes and methods (1). (All must be included.)"
   ]
  },
  {
   "cell_type": "markdown",
   "metadata": {},
   "source": [
    "URL:"
   ]
  },
  {
   "cell_type": "markdown",
   "metadata": {},
   "source": [
    "## Successful installation (2)\n",
    "\n",
    "Put a screenshot or paste a copy of a terminal session where you successfully install your module with pip.\n",
    "\n",
    "If pasting text, use a preformatted text block to show the results.\n",
    "\n",
    "- Installed with `pip` (1).\n",
    "- Successfully installed message appears (1)."
   ]
  },
  {
   "cell_type": "markdown",
   "metadata": {},
   "source": [
    "![Screenshot 2024-07-15 at 12.41.03PM.png](<attachment:Screenshot 2024-07-15 at 12.41.03PM.png.png>)"
   ]
  },
  {
   "cell_type": "markdown",
   "metadata": {},
   "source": [
    "# Scenarios\n",
    "\n",
    "Use code blocks to perform the tasks for each scenario.\n",
    "\n",
    "Be sure the outputs are visible before submitting."
   ]
  },
  {
   "cell_type": "markdown",
   "metadata": {},
   "source": [
    "## Scenario 1: A 2-headed Coin (9)\n",
    "\n",
    "Task 1. Create a fair coin (with faces $H$ and $T$) and one unfair coin in which one of the faces has a weight of $5$ and the others $1$.\n",
    "\n",
    "- Fair coin created (1).\n",
    "- Unfair coin created with weight as specified (1)."
   ]
  },
  {
   "cell_type": "code",
   "execution_count": null,
   "metadata": {},
   "outputs": [],
   "source": []
  },
  {
   "cell_type": "markdown",
   "metadata": {},
   "source": [
    "Task 2. Play a game of $1000$ flips with two fair dice.\n",
    "\n",
    "- Play method called correclty and without error (1)."
   ]
  },
  {
   "cell_type": "code",
   "execution_count": null,
   "metadata": {},
   "outputs": [],
   "source": []
  },
  {
   "cell_type": "markdown",
   "metadata": {},
   "source": [
    "Task 3. Play another game (using a new Game object) of $1000$ flips, this time using two unfair dice and one fair die. For the second unfair die, you can use the same die object twice in the list of dice you pass to the Game object.\n",
    "\n",
    "- New game object created (1).\n",
    "- Play method called correclty and without error (1)."
   ]
  },
  {
   "cell_type": "code",
   "execution_count": null,
   "metadata": {},
   "outputs": [],
   "source": []
  },
  {
   "cell_type": "markdown",
   "metadata": {},
   "source": [
    "Task 4. For each game, use an Analyzer object to determine the raw frequency of jackpots — i.e. getting either all $H$s or all $T$s.\n",
    "\n",
    "- Analyzer objecs instantiated for both games (1).\n",
    "- Raw frequencies reported for both (1)."
   ]
  },
  {
   "cell_type": "code",
   "execution_count": null,
   "metadata": {},
   "outputs": [],
   "source": []
  },
  {
   "cell_type": "markdown",
   "metadata": {},
   "source": [
    "Task 5. For each analyzer, compute relative frequency as the number of jackpots over the total number of rolls.\n",
    "\n",
    "- Both relative frequencies computed (1)."
   ]
  },
  {
   "cell_type": "code",
   "execution_count": null,
   "metadata": {},
   "outputs": [],
   "source": []
  },
  {
   "cell_type": "markdown",
   "metadata": {},
   "source": [
    "Task 6. Show your results, comparing the two relative frequencies, in a simple bar chart.\n",
    "\n",
    "- Bar chart plotted and correct (1)."
   ]
  },
  {
   "cell_type": "code",
   "execution_count": null,
   "metadata": {},
   "outputs": [],
   "source": []
  },
  {
   "cell_type": "markdown",
   "metadata": {},
   "source": [
    "## Scenario 2: A 6-sided Die (9)\n",
    "\n",
    "Task 1. Create three dice, each with six sides having the faces 1 through 6.\n",
    "\n",
    "- Three die objects created (1)."
   ]
  },
  {
   "cell_type": "code",
   "execution_count": null,
   "metadata": {},
   "outputs": [],
   "source": []
  },
  {
   "cell_type": "markdown",
   "metadata": {},
   "source": [
    "Task 2. Convert one of the dice to an unfair one by weighting the face $6$ five times more than the other weights (i.e. it has weight of 5 and the others a weight of 1 each).\n",
    "\n",
    "- Unfair die created with proper call to weight change method (1)."
   ]
  },
  {
   "cell_type": "code",
   "execution_count": null,
   "metadata": {},
   "outputs": [],
   "source": []
  },
  {
   "cell_type": "markdown",
   "metadata": {},
   "source": [
    "Task 3. Convert another of the dice to be unfair by weighting the face $1$ five times more than the others.\n",
    "\n",
    "- Unfair die created with proper call to weight change method (1)."
   ]
  },
  {
   "cell_type": "code",
   "execution_count": null,
   "metadata": {},
   "outputs": [],
   "source": []
  },
  {
   "cell_type": "markdown",
   "metadata": {},
   "source": [
    "Task 4. Play a game of $10000$ rolls with $5$ fair dice.\n",
    "\n",
    "- Game class properly instantiated (1). \n",
    "- Play method called properly (1)."
   ]
  },
  {
   "cell_type": "code",
   "execution_count": null,
   "metadata": {},
   "outputs": [],
   "source": []
  },
  {
   "cell_type": "markdown",
   "metadata": {},
   "source": [
    "Task 5. Play another game of $10000$ rolls, this time with $2$ unfair dice, one as defined in steps #2 and #3 respectively, and $3$ fair dice.\n",
    "\n",
    "- Game class properly instantiated (1). \n",
    "- Play method called properly (1)."
   ]
  },
  {
   "cell_type": "code",
   "execution_count": null,
   "metadata": {},
   "outputs": [],
   "source": []
  },
  {
   "cell_type": "markdown",
   "metadata": {},
   "source": [
    "Task 6. For each game, use an Analyzer object to determine the relative frequency of jackpots and show your results, comparing the two relative frequencies, in a simple bar chart.\n",
    "\n",
    "- Jackpot methods called (1).\n",
    "- Graph produced (1)."
   ]
  },
  {
   "cell_type": "code",
   "execution_count": null,
   "metadata": {},
   "outputs": [],
   "source": []
  },
  {
   "cell_type": "markdown",
   "metadata": {},
   "source": [
    "## Scenario 3: Letters of the Alphabet (7)\n",
    "\n",
    "Task 1. Create a \"die\" of letters from $A$ to $Z$ with weights based on their frequency of usage as found in the data file `english_letters.txt`. Use the frequencies (i.e. raw counts) as weights.\n",
    "\n",
    "- Die correctly instantiated with source file data (1).\n",
    "- Weights properly applied using weight setting method (1)."
   ]
  },
  {
   "cell_type": "code",
   "execution_count": null,
   "metadata": {},
   "outputs": [],
   "source": []
  },
  {
   "cell_type": "markdown",
   "metadata": {},
   "source": [
    "Task 2. Play a game involving $4$ of these dice with $1000$ rolls.\n",
    "\n",
    "- Game play method properly called (1)."
   ]
  },
  {
   "cell_type": "code",
   "execution_count": null,
   "metadata": {},
   "outputs": [],
   "source": []
  },
  {
   "cell_type": "markdown",
   "metadata": {},
   "source": [
    "Task 3. Determine how many permutations in your results are actual English words, based on the vocabulary found in `scrabble_words.txt`.\n",
    "\n",
    "- Use permutation method (1).\n",
    "- Get count as difference between permutations and vocabulary (1)."
   ]
  },
  {
   "cell_type": "code",
   "execution_count": null,
   "metadata": {},
   "outputs": [],
   "source": []
  },
  {
   "cell_type": "markdown",
   "metadata": {},
   "source": [
    "Task 4. Repeat steps #2 and #3, this time with $5$ dice. How many actual words does this produce? Which produces more?\n",
    "\n",
    "- Successfully repreats steps (1).\n",
    "- Identifies parameter with most found words (1)."
   ]
  }
 ],
 "metadata": {
  "kernelspec": {
   "display_name": "Python 3",
   "language": "python",
   "name": "python3"
  },
  "language_info": {
   "codemirror_mode": {
    "name": "ipython",
    "version": 3
   },
   "file_extension": ".py",
   "mimetype": "text/x-python",
   "name": "python",
   "nbconvert_exporter": "python",
   "pygments_lexer": "ipython3",
   "version": "3.11.9"
  }
 },
 "nbformat": 4,
 "nbformat_minor": 2
}
