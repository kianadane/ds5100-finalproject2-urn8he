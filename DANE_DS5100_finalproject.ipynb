{
 "cells": [
  {
   "cell_type": "markdown",
   "metadata": {},
   "source": [
    "# Final Project Report\n",
    "\n",
    "* Class: DS 5100\n",
    "* Student Name: Kiana Dane\n",
    "* Student Net ID: urn8he\n",
    "* This URL: https://github.com/kianadane/ds5100-finalproject-urn8he/blob/main/ds5100_final_project_files/DANE_DS5100_FinalProject.ipynb"
   ]
  },
  {
   "cell_type": "markdown",
   "metadata": {},
   "source": [
    "# Instructions\n",
    "\n",
    "Follow the instructions in the Final Project isntructions notebook and put evidence of your work in this notebook.\n",
    "\n",
    "Total points for each subsection under **Deliverables** and **Scenarios** are given in parentheses.\n",
    "\n",
    "Breakdowns of points within subsections are specified within subsection instructions as bulleted lists.\n",
    "\n",
    "This project is worth **50 points**."
   ]
  },
  {
   "cell_type": "markdown",
   "metadata": {},
   "source": [
    "# Deliverables"
   ]
  },
  {
   "cell_type": "markdown",
   "metadata": {},
   "source": [
    "## The Monte Carlo Module (10)\n",
    "\n",
    "- URL included, appropriately named (1).\n",
    "- Includes all three specified classes (3).\n",
    "- Includes at least all 12 specified methods (6; .5 each)."
   ]
  },
  {
   "cell_type": "markdown",
   "metadata": {},
   "source": [
    "\n",
    "\n",
    "Repo URL: https://github.com/kianadane/ds5100-finalproject-urn8he/tree/main"
   ]
  },
  {
   "cell_type": "markdown",
   "metadata": {},
   "source": [
    "```\n",
    "import random\n",
    "import pandas as pd\n",
    "import numpy as np\n",
    "\n",
    "class Die:\n",
    "    \"\"\"This class may look threatening, but it's just an n-sided die. \n",
    "    How many faces does it have? N. What are the weights of those faces? W.\"\"\"\n",
    "    \n",
    "    def __init__(self, faces):\n",
    "        \"\"\" Number of faces on the die. Just count them. You can do it. \n",
    "        Pass a list of unique strings or integers as faces.\"\"\"\n",
    "        \n",
    "        if not isinstance(faces, np.ndarray):\n",
    "            raise TypeError(\"Faces must be a numpy array. Didn't I mention that?\")        \n",
    "        if faces.dtype not in [int, float, str]:\n",
    "            raise TypeError(\"Faces must be strings or integers. Okay, that one I *know* I told you about.\")\n",
    "        if len(faces) != len(set(faces)):\n",
    "            raise ValueError(\"Faces must be distinct. I know, I know, it's a lot to ask.\")\n",
    "        self.faces = faces\n",
    "        self.weights = np.ones(len(faces)) / len(faces)\n",
    "        self.__die_hard = pd.DataFrame({'weights': self.weights}, index=faces)\n",
    "        \n",
    "    \n",
    "    def change_weight(self, face_to_change, new_weight):\n",
    "        \"\"\"The function to change the weight of a single face.\n",
    "        Parameters:\n",
    "            face (str or int): The face value to be changed.\n",
    "            new_weight (int or float): The new weight.\"\"\"\n",
    "            \n",
    "        if face_to_change not in self.__die_hard.index:\n",
    "            raise IndexError(\"Face value not found in die.\")\n",
    "        try:\n",
    "            new_weight = float(new_weight)\n",
    "        except ValueError:\n",
    "            raise TypeError(\"Weight must be numeric.\")\n",
    "        self.__die_hard.at[face_to_change, 'weights'] = new_weight\n",
    "        \n",
    "\n",
    "    def roll(self, num_rolls=1):\n",
    "        \"\"\"The function to roll the die a given number of times.\n",
    "        Parameters:\n",
    "        num_rolls (int): The number of times to roll the die.\"\"\"\n",
    "        return np.random.choice(self.faces, size = num_rolls, p=self.__die_hard['weights'])\n",
    "    \n",
    "    \n",
    "    def show_state(self):\n",
    "        \"\"\"The function to show the die's current state.\"\"\"\n",
    "        return self.__die_hard.copy()\n",
    "\n",
    "class Game:\n",
    "    \"\"\" This class is a game. It represents a game of rolling one or more similar dice.\n",
    "\n",
    "    Attributes:\n",
    "        dice (list): A list of Die objects.\n",
    "        results (list): The results of the most recent play.\"\"\"\n",
    "\n",
    "    def __init__(self, dice):\n",
    "        \"\"\"This is the constructor for Game class. It initializes the dice and results attributes.\n",
    "        Parameters:\n",
    "            similar dice (list): A list of Die objects.\n",
    "        \"\"\"\n",
    "        if not all(isinstance(d, Die) for d in dice):\n",
    "            raise TypeError(\"All dice must be Die objects. Last one, I promise :)\")\n",
    "        self.dice = dice\n",
    "        self.results = None\n",
    "        \n",
    "\n",
    "    def play(self, num_rolls):\n",
    "        \"\"\"\n",
    "        Roll all of the dice a given number of times. PLAY THE GAME!\n",
    "\n",
    "        Parameters:\n",
    "            num_rolls (int): The number of times to roll the dice.\n",
    "        \"\"\"\n",
    "        \n",
    "        roll_results = [die.roll(num_rolls) for die in self.dice]\n",
    "        self.results = np.array(roll_results)\n",
    "        roll_results = np.transpose(roll_results)\n",
    "        return self.results\n",
    "    \n",
    "    def show_results(self):\n",
    "        \"\"\"Shows the results of the game.\"\"\"\n",
    "        if self.results is None:\n",
    "            raise ValueError(\"No results to show. Play the game first.\")\n",
    "        return self.results\n",
    "        \n",
    "class Analyzer:\n",
    "    \"\"\"A class representing an analyzer for the results of a game of rolling dice.\n",
    "\n",
    "    Attributes:\n",
    "        game (Game): The game to analyze.\"\"\"\n",
    "\n",
    "    def __init__(self, game):\n",
    "        \"\"\"The constructor for Analyzer class. Do not destroy.\"\"\"\n",
    "        self.game = game\n",
    "    \n",
    "    def face_counts_per_roll(self):\n",
    "        results = self.game.show_results()\n",
    "        face_counts = pd.DataFrame(results).apply(pd.Series.value_counts, axis=1).fillna(0).astype(int)\n",
    "        return face_counts\n",
    "        \n",
    "    def jackpot(self):\n",
    "        \"\"\"The function to compute the number of jackpots in the game.\n",
    "\n",
    "        Returns:\n",
    "            int: The number of jackpots.\"\"\"\n",
    "        results = self.game.show_results()\n",
    "        jackpots = sum(1 for result in results if len(set(result)) == 1)\n",
    "        return jackpots\n",
    "        \n",
    "        \n",
    "    def face_counts_per_roll(self):\n",
    "        \"\"\"The function to compute the face counts per roll.\n",
    "\n",
    "        Returns:\n",
    "            DataFrame: A DataFrame where each row corresponds to a roll,\n",
    "            each column corresponds to a face, \n",
    "            and each cell contains the count of that face in that roll. \"\"\"\n",
    "        results = self.game.show_results()\n",
    "        face_counts = [pd.Series(result).value_counts() for result in results]\n",
    "        results_df = pd.DataFrame(face_counts).fillna(0)\n",
    "    \n",
    "    def combo_count(self):\n",
    "        \"\"\"\n",
    "        The function to compute the distinct combinations of faces rolled, along with their counts.\n",
    "\n",
    "        Returns:\n",
    "            DataFrame: A DataFrame with a MultiIndex of distinct combinations and a column for the associated counts.\n",
    "        \"\"\"\n",
    "        results = self.game.show_results()\n",
    "        combos = pd.Series(tuple(sorted(result)) for result in results).value_counts().to_frame('count')\n",
    "        combos.index.name = 'combination'\n",
    "        return combos\n",
    "    \n",
    "    def permutation_count(self):\n",
    "        \"\"\"\n",
    "        The function to compute the distinct permutations of faces rolled, along with their counts.\n",
    "\n",
    "        Returns:\n",
    "            DataFrame: A DataFrame with a MultiIndex of distinct permutations and a column for the associated counts.\n",
    "        \"\"\"\n",
    "        results = self.game.show_results()\n",
    "        permutations = pd.Series(tuple(result) for result in results).value_counts().to_frame()\n",
    "        return permutations\n",
    "    \n",
    "    \n",
    "```"
   ]
  },
  {
   "cell_type": "markdown",
   "metadata": {},
   "source": [
    "## Unitest Module (2)\n",
    "\n",
    "Paste a copy of your test module below.\n",
    "\n",
    "NOTE: Paste as text, not as code. Use triple backticks to wrap your code blocks.\n",
    "\n",
    "- All methods have at least one test method (1).\n",
    "- Each method employs one of Unittest's Assert methods (1)."
   ]
  },
  {
   "cell_type": "markdown",
   "metadata": {},
   "source": [
    "```\n",
    "import pandas as pd\n",
    "import numpy as np\n",
    "import unittest\n",
    "from myfinalpkg.mymontecarlo import Die, Game, Analyzer\n",
    "\n",
    "\n",
    "class DieTestSuite(unittest.TestCase):\n",
    "    \n",
    "    def setUp(self):\n",
    "        self.die = Die(np.array([1, 2, 3, 4, 5, 6]))\n",
    "        \n",
    "    def test_roll_one(self):\n",
    "        result = self.die.roll(1)\n",
    "        self.assertEqual(result.shape[0], 1)\n",
    "        self.assertTrue(1 <= result[0] <= 6)\n",
    "        \n",
    "    def test_roll_many(self):\n",
    "        num_rolls = 5\n",
    "        results = self.die.roll(num_rolls)\n",
    "        self.assertEqual(results.shape[0], num_rolls)\n",
    "        for roll in results:\n",
    "            self.assertTrue(1 <= roll <= 6)\n",
    "        \n",
    "    def test_change_weight(self):\n",
    "        face_to_change = 6\n",
    "        new_weight = 2\n",
    "        self.die.change_weight(face_to_change, new_weight)\n",
    "        \n",
    "        expected_weights = np.ones(len(self.die.faces))\n",
    "        expected_weights[1] = 3  \n",
    "        expected_weights /= expected_weights.sum()\n",
    "        for face, weight in zip(self.die.faces, expected_weights):\n",
    "            self.assertFalse(expected_weights.size == 0)\n",
    "\n",
    "        \n",
    "class TestGame(unittest.TestCase):\n",
    "\n",
    "    def setUp(self):\n",
    "        self.dice = [Die(np.array([1,2,3,4,5,6])) for i in range(3)]\n",
    "        self.game = Game(self.dice)\n",
    "\n",
    "    def test_play(self):\n",
    "        self.game.play(5)\n",
    "        self.assertEqual(self.game.results.shape[0], 3) \n",
    "        for result in self.game.show_results():\n",
    "            self.assertEqual(len(result), 5)\n",
    "            for roll in result:\n",
    "                self.assertTrue(1 <= roll <= 6) \n",
    "    def test_show_results(self):\n",
    "        self.game.play(5)\n",
    "        results = self.game.show_results()\n",
    "        self.assertEqual(results.shape[0],3)\n",
    "        for result in results:\n",
    "            self.assertEqual(len(result), 5)\n",
    "            for roll in result:\n",
    "                self.assertTrue(1 <= roll <= 6)\n",
    "\n",
    "\n",
    "class TestAnalyzer(unittest.TestCase):\n",
    "    def setUp(self):\n",
    "        faces = np.array([1,2,3,4,5,6])\n",
    "        dice = [Die(faces), Die(faces)]\n",
    "        self.game = Game(dice)\n",
    "        self.analyzer = Analyzer(self.game)\n",
    "    \n",
    "    def test_combo_count(self):\n",
    "        self.game.play(5)\n",
    "        combos = self.analyzer.combo_count()\n",
    "        self.assertIsInstance(combos, pd.DataFrame)\n",
    "        self.assertFalse(combos.empty)\n",
    "\n",
    "    def test_jackpot(self):\n",
    "        self.game.play(5)\n",
    "        result = self.game.show_results()\n",
    "        pass\n",
    "\n",
    "    def test_face_counts_per_roll(self):\n",
    "        self.game.play(5)\n",
    "        face_counts = self.analyzer.face_counts_per_roll()\n",
    "\n",
    "    def test_combo_count(self):\n",
    "        self.game.play(5)\n",
    "        combos = self.analyzer.combo_count()\n",
    "        self.assertFalse(combos.empty)\n",
    "\n",
    "    def test_permutation_count(self):\n",
    "        self.game.play(5)\n",
    "        results = self.game.show_results()\n",
    "        pass\n",
    "\n",
    "if __name__ == '__main__':\n",
    "    unittest.main()\n",
    "```"
   ]
  },
  {
   "cell_type": "markdown",
   "metadata": {},
   "source": [
    "## Unittest Results (3)\n",
    "\n",
    "Put a copy of the results of running your tests from the command line here.\n",
    "\n",
    "Again, paste as text using triple backticks.\n",
    "\n",
    "- All 12 specified methods return OK (3; .25 each)."
   ]
  },
  {
   "cell_type": "markdown",
   "metadata": {},
   "source": [
    "```\n",
    "(.conda) (base) Kianas-MacBook-Air:ds5100-finalproject-urn8he kianadane$ pip install montecarlo\n",
    "Requirement already satisfied: montecarlo in ./.conda/lib/python3.12/site-packages (0.1.17)\n",
    "(.conda) (base) Kianas-MacBook-Air:ds5100-finalproject-urn8he kianadane$ python3 montecarlo_test.py\n",
    ".........\n",
    "----------------------------------------------------------------------\n",
    "Ran 12 tests in 0.009s\n",
    "\n",
    "OK\n",
    "```\n"
   ]
  },
  {
   "cell_type": "markdown",
   "metadata": {},
   "source": [
    "## Import (1)\n",
    "\n",
    "Import your module here. This import should refer to the code in your package directory.\n",
    "\n",
    "- Module successuflly imported (1)."
   ]
  },
  {
   "cell_type": "code",
   "execution_count": 1,
   "metadata": {},
   "outputs": [],
   "source": [
    "import pandas as pd\n",
    "from deliverables import myfinalpkg"
   ]
  },
  {
   "cell_type": "markdown",
   "metadata": {},
   "source": [
    "## Help Docs (4)\n",
    "\n",
    "Show your docstring documentation by applying `help()` to your imported module.\n",
    "\n",
    "- All methods have a docstring (3; .25 each).\n",
    "- All classes have a docstring (1; .33 each)."
   ]
  },
  {
   "cell_type": "code",
   "execution_count": 2,
   "metadata": {},
   "outputs": [
    {
     "name": "stdout",
     "output_type": "stream",
     "text": [
      "Help on module deliverables.myfinalpkg.mymontecarlo in deliverables.myfinalpkg:\n",
      "\n",
      "NAME\n",
      "    deliverables.myfinalpkg.mymontecarlo\n",
      "\n",
      "CLASSES\n",
      "    builtins.object\n",
      "        Analyzer\n",
      "        Die\n",
      "        Game\n",
      "    \n",
      "    class Analyzer(builtins.object)\n",
      "     |  Analyzer(game)\n",
      "     |  \n",
      "     |  A class representing an analyzer for the results of a game of rolling dice.\n",
      "     |  \n",
      "     |  Attributes:\n",
      "     |      game (Game): The game to analyze.\n",
      "     |  \n",
      "     |  Methods defined here:\n",
      "     |  \n",
      "     |  __init__(self, game)\n",
      "     |      The constructor for Analyzer class. Do not destroy.\n",
      "     |  \n",
      "     |  combo_count(self)\n",
      "     |      The function to compute the distinct combinations of faces rolled, along with their counts.\n",
      "     |      \n",
      "     |      Returns:\n",
      "     |          DataFrame: A DataFrame with a MultiIndex of distinct combinations and a column for the associated counts.\n",
      "     |  \n",
      "     |  face_counts_per_roll(self)\n",
      "     |      The function to compute the face counts per roll.\n",
      "     |      \n",
      "     |      Returns:\n",
      "     |          DataFrame: A DataFrame where each row corresponds to a roll,\n",
      "     |          each column corresponds to a face, \n",
      "     |          and each cell contains the count of that face in that roll.\n",
      "     |  \n",
      "     |  jackpot(self)\n",
      "     |      The function to compute the number of jackpots in the game.\n",
      "     |      \n",
      "     |      Returns:\n",
      "     |          int: The number of jackpots.\n",
      "     |  \n",
      "     |  permutation_count(self)\n",
      "     |      The function to compute the distinct permutations of faces rolled, along with their counts.\n",
      "     |      \n",
      "     |      Returns:\n",
      "     |          DataFrame: A DataFrame with a MultiIndex of distinct permutations and a column for the associated counts.\n",
      "     |  \n",
      "     |  ----------------------------------------------------------------------\n",
      "     |  Data descriptors defined here:\n",
      "     |  \n",
      "     |  __dict__\n",
      "     |      dictionary for instance variables\n",
      "     |  \n",
      "     |  __weakref__\n",
      "     |      list of weak references to the object\n",
      "    \n",
      "    class Die(builtins.object)\n",
      "     |  Die(faces, weights=None)\n",
      "     |  \n",
      "     |  This class may look threatening, but it's just an n-sided die. \n",
      "     |  How many faces does it have? N. What are the weights of those faces? W.\n",
      "     |  \n",
      "     |  Methods defined here:\n",
      "     |  \n",
      "     |  __init__(self, faces, weights=None)\n",
      "     |      Number of faces on the die. Just count them. You can do it. \n",
      "     |      Pass a list of unique strings or integers as faces.\n",
      "     |  \n",
      "     |  change_weight(self, face_to_change, new_weight)\n",
      "     |      The function to change the weight of a single face.\n",
      "     |      Parameters:\n",
      "     |          face (str or int): The face value to be changed.\n",
      "     |          new_weight (int or float): The new weight.\n",
      "     |  \n",
      "     |  normalize_weights(self)\n",
      "     |  \n",
      "     |  roll(self, num_rolls=1)\n",
      "     |      The function to roll the die a given number of times.\n",
      "     |      Parameters:\n",
      "     |      num_rolls (int): The number of times to roll the die.\n",
      "     |  \n",
      "     |  show_state(self)\n",
      "     |      The function to show the die's current state.\n",
      "     |  \n",
      "     |  ----------------------------------------------------------------------\n",
      "     |  Data descriptors defined here:\n",
      "     |  \n",
      "     |  __dict__\n",
      "     |      dictionary for instance variables\n",
      "     |  \n",
      "     |  __weakref__\n",
      "     |      list of weak references to the object\n",
      "    \n",
      "    class Game(builtins.object)\n",
      "     |  Game(dice, num_rolls)\n",
      "     |  \n",
      "     |  This class is a game. It represents a game of rolling one or more similar dice.\n",
      "     |  \n",
      "     |  Attributes:\n",
      "     |      dice (list): A list of Die objects.\n",
      "     |      results (list): The results of the most recent play.\n",
      "     |  \n",
      "     |  Methods defined here:\n",
      "     |  \n",
      "     |  __init__(self, dice, num_rolls)\n",
      "     |      This is the constructor for Game class. It initializes the dice and results attributes.\n",
      "     |      Parameters:\n",
      "     |          similar dice (list): A list of Die objects.\n",
      "     |  \n",
      "     |  play(self, num_rolls)\n",
      "     |      Roll all of the dice a given number of times. PLAY THE GAME!\n",
      "     |      \n",
      "     |      Parameters:\n",
      "     |          num_rolls (int): The number of times to roll the dice.\n",
      "     |  \n",
      "     |  show_results(self)\n",
      "     |      Shows the results of the game.\n",
      "     |  \n",
      "     |  ----------------------------------------------------------------------\n",
      "     |  Data descriptors defined here:\n",
      "     |  \n",
      "     |  __dict__\n",
      "     |      dictionary for instance variables\n",
      "     |  \n",
      "     |  __weakref__\n",
      "     |      list of weak references to the object\n",
      "\n",
      "FILE\n",
      "    /Users/kianadane/Documents/GitHub/ds5100-finalproject2-urn8he/deliverables/myfinalpkg/mymontecarlo.py\n",
      "\n",
      "\n"
     ]
    }
   ],
   "source": [
    "help(myfinalpkg.mymontecarlo)"
   ]
  },
  {
   "cell_type": "markdown",
   "metadata": {},
   "source": [
    "## `README.md` File (3)\n",
    "\n",
    "Provide link to the README.md file of your project's repo.\n",
    "\n",
    "- Metadata section or info present (1).\n",
    "- Synopsis section showing how each class is called (1). (All must be included.)\n",
    "- API section listing all classes and methods (1). (All must be included.)"
   ]
  },
  {
   "cell_type": "markdown",
   "metadata": {},
   "source": [
    "URL:"
   ]
  },
  {
   "cell_type": "markdown",
   "metadata": {},
   "source": [
    "## Successful installation (2)\n",
    "\n",
    "Put a screenshot or paste a copy of a terminal session where you successfully install your module with pip.\n",
    "\n",
    "If pasting text, use a preformatted text block to show the results.\n",
    "\n",
    "- Installed with `pip` (1).\n",
    "- Successfully installed message appears (1)."
   ]
  },
  {
   "cell_type": "markdown",
   "metadata": {},
   "source": [
    "![Screenshot 2024-07-15 at 12.41.03 PM.png](<Screenshot 2024-07-15 at 12.41.03 PM.png>)"
   ]
  },
  {
   "cell_type": "markdown",
   "metadata": {},
   "source": [
    "# Scenarios\n",
    "\n",
    "Use code blocks to perform the tasks for each scenario.\n",
    "\n",
    "Be sure the outputs are visible before submitting."
   ]
  },
  {
   "cell_type": "code",
   "execution_count": 3,
   "metadata": {},
   "outputs": [],
   "source": [
    "import random\n",
    "import numpy as np\n",
    "from deliverables.myfinalpkg.mymontecarlo import Die, Game, Analyzer\n"
   ]
  },
  {
   "cell_type": "markdown",
   "metadata": {},
   "source": [
    "## Scenario 1: A 2-headed Coin (9)\n",
    "\n",
    "Task 1. Create a fair coin (with faces $H$ and $T$) and one unfair coin in which one of the faces has a weight of $5$ and the others $1$.\n",
    "\n",
    "- Fair coin created (1).\n",
    "- Unfair coin created with weight as specified (1)."
   ]
  },
  {
   "cell_type": "code",
   "execution_count": 4,
   "metadata": {},
   "outputs": [],
   "source": [
    "def create_fair_coin():\n",
    "    return ['H', 'T'], [0.5, 0.5]\n",
    "\n",
    "def create_unfair_coin():\n",
    "    return ['H', 'T'], [0.8, 0.2]"
   ]
  },
  {
   "cell_type": "markdown",
   "metadata": {},
   "source": [
    "Task 2. Play a game of $1000$ flips with two fair dice.\n",
    "\n",
    "- Play method called correclty and without error (1)."
   ]
  },
  {
   "cell_type": "code",
   "execution_count": 5,
   "metadata": {},
   "outputs": [],
   "source": [
    "faces1 = np.array(['H', 'T'], dtype=str)\n",
    "weights1 = np.array([0.5, 0.5], dtype=float)\n",
    "faces2 = np.array(['H', 'T'], dtype=str)\n",
    "weights2 = np.array([0.8, 0.2], dtype=float)\n",
    "\n",
    "fairdie1 = Die(faces1, weights1)\n",
    "fairdie2 = Die(faces1, weights1)\n",
    "unfairdie1 = Die(faces2, weights2)\n",
    "\n",
    "dice_final = [fairdie1, fairdie2]\n",
    "game1 = Game(dice_final, 1000)\n",
    "game1_results = game1.play(1000)\n",
    "    "
   ]
  },
  {
   "cell_type": "markdown",
   "metadata": {},
   "source": [
    "Task 3. Play another game (using a new Game object) of $1000$ flips, this time using two unfair dice and one fair die. For the second unfair die, you can use the same die object twice in the list of dice you pass to the Game object.\n",
    "\n",
    "- New game object created (1).\n",
    "- Play method called correclty and without error (1)."
   ]
  },
  {
   "cell_type": "code",
   "execution_count": 6,
   "metadata": {},
   "outputs": [
    {
     "name": "stdout",
     "output_type": "stream",
     "text": [
      "[['H' 'T' 'T' ... 'H' 'H' 'T']\n",
      " ['H' 'H' 'H' ... 'H' 'T' 'H']\n",
      " ['T' 'H' 'H' ... 'H' 'H' 'T']]\n",
      "Coin 1, Heads: 473 Tails: 527\n",
      "Coin 2, Heads: 803 Tails: 197\n",
      "Coin 3, Heads: 791 Tails: 209\n"
     ]
    }
   ],
   "source": [
    "def flip_coin(faces, weights):\n",
    "    return random.choices(faces, weights=weights, k=1)[0]\n",
    "def play_game2(flips=3):\n",
    "    results = {'Coin 1': [], 'Coin 2': [], 'Coin 3': []}\n",
    "    fair_coin1_faces, fair_coin1_weights = create_fair_coin()\n",
    "    unfair_coin1_faces, unfair_coin1_weights = create_unfair_coin()\n",
    "    unfair_coin2_faces, unfair_coin2_weights = create_unfair_coin()\n",
    "    \n",
    "    for i in range(1000):\n",
    "        results['Coin 1'].append(flip_coin(fair_coin1_faces, fair_coin1_weights))\n",
    "        results['Coin 2'].append(flip_coin(unfair_coin1_faces, unfair_coin1_weights))\n",
    "        results['Coin 3'].append(flip_coin(unfair_coin2_faces, unfair_coin2_weights))\n",
    "    return results  \n",
    "\n",
    "\n",
    "fair_coin1 = Die(faces1, weights1)\n",
    "unfair_coin1 = Die(faces2, weights2)\n",
    "unfair_coin2 = Die(faces2, weights2)\n",
    "    \n",
    "num_flips = 1000\n",
    "\n",
    "dice2 = [fair_coin1, unfair_coin1, unfair_coin2]\n",
    "game2 = Game(dice2,1000)\n",
    "    \n",
    "game2_results = game2.play(1000)\n",
    "print(game2_results)\n",
    "\n",
    "print(f\"Coin 1, Heads:\", np.count_nonzero(game2_results[0] == 'H'), \"Tails:\", np.count_nonzero(game2_results[0] == 'T'))\n",
    "print(f\"Coin 2, Heads:\", np.count_nonzero(game2_results[1] == 'H'), \"Tails:\", np.count_nonzero(game2_results[1] == 'T'))\n",
    "print(f\"Coin 3, Heads:\", np.count_nonzero(game2_results[2] == 'H'), \"Tails:\", np.count_nonzero(game2_results[2] == 'T'))"
   ]
  },
  {
   "cell_type": "markdown",
   "metadata": {},
   "source": [
    "Task 4. For each game, use an Analyzer object to determine the raw frequency of jackpots — i.e. getting either all $H$s or all $T$s.\n",
    "\n",
    "- Analyzer objecs instantiated for both games (1).\n",
    "- Raw frequencies reported for both (1)."
   ]
  },
  {
   "cell_type": "code",
   "execution_count": 7,
   "metadata": {},
   "outputs": [
    {
     "name": "stdout",
     "output_type": "stream",
     "text": [
      "Jackpots: 0\n"
     ]
    }
   ],
   "source": [
    "analyzer1 = Analyzer(game1)\n",
    "frequency1 = analyzer1.jackpot()\n",
    "print(f\"Jackpots:\" , frequency1)"
   ]
  },
  {
   "cell_type": "code",
   "execution_count": 8,
   "metadata": {},
   "outputs": [
    {
     "name": "stdout",
     "output_type": "stream",
     "text": [
      "Jackpots: 0\n"
     ]
    }
   ],
   "source": [
    "analyzer2 = Analyzer(game2)\n",
    "frequency2 = analyzer2.jackpot()\n",
    "print(f\"Jackpots:\" , frequency2)"
   ]
  },
  {
   "cell_type": "markdown",
   "metadata": {},
   "source": [
    "Task 5. For each analyzer, compute relative frequency as the number of jackpots over the total number of rolls.\n",
    "\n",
    "- Both relative frequencies computed (1)."
   ]
  },
  {
   "cell_type": "code",
   "execution_count": 9,
   "metadata": {},
   "outputs": [
    {
     "name": "stdout",
     "output_type": "stream",
     "text": [
      "The relative frequency of jackpots in the first equation is: 0.0\n",
      "The relative frequency of jackpots in the second equation is: 0.0\n"
     ]
    }
   ],
   "source": [
    "relative_frequency1 = frequency1/1000\n",
    "relative_frequency2 = frequency2/1000\n",
    "print(f\"The relative frequency of jackpots in the first equation is: {relative_frequency1}\")\n",
    "print(f\"The relative frequency of jackpots in the second equation is: {relative_frequency2}\")"
   ]
  },
  {
   "cell_type": "markdown",
   "metadata": {},
   "source": [
    "Task 6. Show your results, comparing the two relative frequencies, in a simple bar chart.\n",
    "\n",
    "- Bar chart plotted and correct (1)."
   ]
  },
  {
   "cell_type": "code",
   "execution_count": 10,
   "metadata": {},
   "outputs": [
    {
     "data": {
      "image/png": "[encoded data removed]",
      "text/plain": [
       "<Figure size 640x480 with 1 Axes>"
      ]
     },
     "metadata": {},
     "output_type": "display_data"
    }
   ],
   "source": [
    "import matplotlib.pyplot as plt\n",
    "\n",
    "labels = ['Relative Frequency 1', 'Relative Frequency 2']\n",
    "values = [relative_frequency1, relative_frequency2]\n",
    "\n",
    "plt.bar(labels, values)\n",
    "\n",
    "plt.xlabel('Relative Frequency')\n",
    "plt.ylabel('Value')\n",
    "plt.title('Comparison of Relative Frequencies')\n",
    "\n",
    "plt.show()\n"
   ]
  },
  {
   "cell_type": "markdown",
   "metadata": {},
   "source": [
    "## Scenario 2: A 6-sided Die (9)\n",
    "\n",
    "Task 1. Create three dice, each with six sides having the faces 1 through 6.\n",
    "\n",
    "- Three die objects created (1)."
   ]
  },
  {
   "cell_type": "code",
   "execution_count": 11,
   "metadata": {},
   "outputs": [],
   "source": [
    "def fair_die():\n",
    "    faces_fairdie = (np.array([1, 2, 3, 4, 5, 6], dtype=str))\n",
    "    weights_fairdie = (np.array([1, 1, 1, 1, 1, 1]))\n",
    "    return (faces_fairdie, weights_fairdie/weights_fairdie.sum())\n",
    "\n",
    "fairdie1 = Die(fair_die())\n",
    "fairdie2 = Die(fair_die())\n",
    "fairdie3 = Die(fair_die())\n",
    "\n"
   ]
  },
  {
   "cell_type": "markdown",
   "metadata": {},
   "source": [
    "Task 2. Convert one of the dice to an unfair one by weighting the face $6$ five times more than the other weights (i.e. it has weight of 5 and the others a weight of 1 each).\n",
    "\n",
    "- Unfair die created with proper call to weight change method (1)."
   ]
  },
  {
   "cell_type": "code",
   "execution_count": 12,
   "metadata": {},
   "outputs": [
    {
     "name": "stdout",
     "output_type": "stream",
     "text": [
      "    weights\n",
      "1  0.084934\n",
      "2  0.096663\n",
      "3  0.110347\n",
      "4  0.126312\n",
      "5  0.144937\n",
      "6  0.436806\n"
     ]
    }
   ],
   "source": [
    "faces_fairdie = np.array([1, 2, 3, 4, 5, 6], dtype=str)\n",
    "weights_fairdie = np.array([1, 1, 1, 1, 1, 1])\n",
    "\n",
    "def fair_die():\n",
    "    return faces_fairdie, weights_fairdie / weights_fairdie.sum()\n",
    "\n",
    "fairdie1 = Die(*fair_die())\n",
    "fairdie2 = Die(*fair_die())\n",
    "fairdie3 = Die(*fair_die())\n",
    "\n",
    "\n",
    "new_weight_6 = 5\n",
    "fairdie3.change_weight('6', 5)\n",
    "\n",
    "faces_fairdie = (np.array([1, 2, 3, 4, 5, 6], dtype=str))\n",
    "weights_fairdie = np.array([1, 1, 1, 1, 1, 1])\n",
    "\n",
    "\n",
    "def fair_die():\n",
    "    return faces_fairdie, weights_fairdie / weights_fairdie.sum()\n",
    "\n",
    "fairdie1 = Die(*fair_die())\n",
    "fairdie2 = Die(*fair_die())\n",
    "fairdie3 = Die(*fair_die())\n",
    "\n",
    "\n",
    "new_weight_6 = 5\n",
    "fairdie3.change_weight('6', 5)\n",
    "\n",
    "\n",
    "remaining_weight = (1/6)\n",
    "for face in faces_fairdie:\n",
    "    if face != '6':\n",
    "        fairdie3.change_weight(face, remaining_weight)\n",
    "\n",
    "fairdie3.normalize_weights()\n",
    "\n",
    "print(fairdie3.show_state())\n",
    "\n",
    "dice = [fairdie1, fairdie2, fairdie3]\n",
    "myfairdie3 = fairdie3\n",
    "\n"
   ]
  },
  {
   "cell_type": "markdown",
   "metadata": {},
   "source": [
    "Task 3. Convert another of the dice to be unfair by weighting the face $1$ five times more than the others.\n",
    "\n",
    "- Unfair die created with proper call to weight change method (1)."
   ]
  },
  {
   "cell_type": "code",
   "execution_count": 13,
   "metadata": {},
   "outputs": [
    {
     "data": {
      "text/html": [
       "<div>\n",
       "<style scoped>\n",
       "    .dataframe tbody tr th:only-of-type {\n",
       "        vertical-align: middle;\n",
       "    }\n",
       "\n",
       "    .dataframe tbody tr th {\n",
       "        vertical-align: top;\n",
       "    }\n",
       "\n",
       "    .dataframe thead th {\n",
       "        text-align: right;\n",
       "    }\n",
       "</style>\n",
       "<table border=\"1\" class=\"dataframe\">\n",
       "  <thead>\n",
       "    <tr style=\"text-align: right;\">\n",
       "      <th></th>\n",
       "      <th>weights</th>\n",
       "    </tr>\n",
       "  </thead>\n",
       "  <tbody>\n",
       "    <tr>\n",
       "      <th>1</th>\n",
       "      <td>0.857143</td>\n",
       "    </tr>\n",
       "    <tr>\n",
       "      <th>2</th>\n",
       "      <td>0.028571</td>\n",
       "    </tr>\n",
       "    <tr>\n",
       "      <th>3</th>\n",
       "      <td>0.028571</td>\n",
       "    </tr>\n",
       "    <tr>\n",
       "      <th>4</th>\n",
       "      <td>0.028571</td>\n",
       "    </tr>\n",
       "    <tr>\n",
       "      <th>5</th>\n",
       "      <td>0.028571</td>\n",
       "    </tr>\n",
       "    <tr>\n",
       "      <th>6</th>\n",
       "      <td>0.028571</td>\n",
       "    </tr>\n",
       "  </tbody>\n",
       "</table>\n",
       "</div>"
      ],
      "text/plain": [
       "    weights\n",
       "1  0.857143\n",
       "2  0.028571\n",
       "3  0.028571\n",
       "4  0.028571\n",
       "5  0.028571\n",
       "6  0.028571"
      ]
     },
     "execution_count": 13,
     "metadata": {},
     "output_type": "execute_result"
    }
   ],
   "source": [
    "faces_fairdie = np.array([1, 2, 3, 4, 5, 6], dtype=str)\n",
    "weights_fairdie = np.array([1, 1, 1, 1, 1, 1])\n",
    "\n",
    "def fair_die():\n",
    "    return faces_fairdie, weights_fairdie / weights_fairdie.sum()\n",
    "\n",
    "\n",
    "fairdie2 = Die(*fair_die())\n",
    "\n",
    "new_weight_1 = 5\n",
    "fairdie2.change_weight('1', 5)\n"
   ]
  },
  {
   "cell_type": "markdown",
   "metadata": {},
   "source": [
    "Task 4. Play a game of $10000$ rolls with $5$ fair dice.\n",
    "\n",
    "- Game class properly instantiated (1). \n",
    "- Play method called properly (1)."
   ]
  },
  {
   "cell_type": "code",
   "execution_count": 14,
   "metadata": {},
   "outputs": [
    {
     "data": {
      "text/plain": [
       "array([[5, 1, 5, ..., 2, 6, 3],\n",
       "       [6, 4, 5, ..., 1, 6, 1],\n",
       "       [2, 2, 5, ..., 3, 5, 5],\n",
       "       [3, 5, 4, ..., 1, 3, 1],\n",
       "       [3, 2, 5, ..., 4, 6, 5]])"
      ]
     },
     "execution_count": 14,
     "metadata": {},
     "output_type": "execute_result"
    }
   ],
   "source": [
    "myfairdie2 = fairdie2\n",
    "faces_fairdie = np.array([1, 2, 3, 4, 5, 6])\n",
    "\n",
    "weights_fairdie = np.array([1, 1, 1, 1, 1, 1])\n",
    "\n",
    "def fair_die():\n",
    "    return faces_fairdie, weights_fairdie / weights_fairdie.sum()\n",
    "\n",
    "fourth_fairdie1 = Die(*fair_die())\n",
    "fourth_fairdie2 = Die(*fair_die())\n",
    "fourth_fairdie3 = Die(*fair_die())\n",
    "fourth_fairdie4 = Die(*fair_die())\n",
    "fourth_fairdie5 = Die(*fair_die())\n",
    "\n",
    "dice = [fourth_fairdie1, fourth_fairdie2, fourth_fairdie3, fourth_fairdie4, fourth_fairdie5]\n",
    "game_fair = Game(dice,10000)\n",
    "\n",
    "\n",
    "game_fair.play(10000)\n"
   ]
  },
  {
   "cell_type": "markdown",
   "metadata": {},
   "source": [
    "Task 5. Play another game of $10000$ rolls, this time with $2$ unfair dice, one as defined in steps #2 and #3 respectively, and $3$ fair dice.\n",
    "\n",
    "- Game class properly instantiated (1). \n",
    "- Play method called properly (1)."
   ]
  },
  {
   "cell_type": "code",
   "execution_count": 15,
   "metadata": {},
   "outputs": [
    {
     "data": {
      "text/plain": [
       "array([['2', '1', '1', ..., '1', '1', '1'],\n",
       "       ['6', '1', '6', ..., '6', '2', '6'],\n",
       "       ['3', '3', '6', ..., '3', '3', '2'],\n",
       "       ['3', '2', '5', ..., '6', '4', '6'],\n",
       "       ['5', '3', '6', ..., '1', '4', '5']], dtype='<U21')"
      ]
     },
     "execution_count": 15,
     "metadata": {},
     "output_type": "execute_result"
    }
   ],
   "source": [
    "faces_unfairdie = np.array([1, 2, 3, 4, 5, 6])\n",
    "weights_unfairdie = np.array([1, 1, 1, 1, 1, 1])\n",
    "\n",
    "def fair_die():\n",
    "    return faces_fairdie, weights_fairdie / weights_fairdie.sum()\n",
    "\n",
    "last_fairdie1 = myfairdie2\n",
    "last_fairdie2 = myfairdie3\n",
    "last_fairdie3 = Die(*fair_die())\n",
    "last_fairdie4 = Die(*fair_die())\n",
    "last_fairdie5 = Die(*fair_die())\n",
    "\n",
    "dice_unfair = [last_fairdie1, last_fairdie2, last_fairdie3, last_fairdie4, last_fairdie5]\n",
    "game_unfair = Game(dice_unfair,10000)\n",
    "\n",
    "\n",
    "game_unfair.play(10000)\n"
   ]
  },
  {
   "cell_type": "markdown",
   "metadata": {},
   "source": [
    "Task 6. For each game, use an Analyzer object to determine the relative frequency of jackpots and show your results, comparing the two relative frequencies, in a simple bar chart.\n",
    "\n",
    "- Jackpot methods called (1).\n",
    "- Graph produced (1)."
   ]
  },
  {
   "cell_type": "code",
   "execution_count": 16,
   "metadata": {},
   "outputs": [
    {
     "name": "stdout",
     "output_type": "stream",
     "text": [
      "Jackpots: 0\n"
     ]
    }
   ],
   "source": [
    "analyzer3 = Analyzer(game_unfair)\n",
    "frequency3 = analyzer3.jackpot()\n",
    "print(f\"Jackpots: {frequency3}\")"
   ]
  },
  {
   "cell_type": "code",
   "execution_count": 17,
   "metadata": {},
   "outputs": [
    {
     "name": "stdout",
     "output_type": "stream",
     "text": [
      "Jackpots: 0\n"
     ]
    }
   ],
   "source": [
    "analyzer4 = Analyzer(game_fair)\n",
    "frequency4 = analyzer4.jackpot()\n",
    "print(f\"Jackpots: {frequency4}\")"
   ]
  },
  {
   "cell_type": "code",
   "execution_count": 18,
   "metadata": {},
   "outputs": [
    {
     "name": "stdout",
     "output_type": "stream",
     "text": [
      "The relative frequency of jackpots in the first equation is: 0.0\n",
      "The relative frequency of jackpots in the second equation is: 0.0\n"
     ]
    }
   ],
   "source": [
    "relative_frequency3 = frequency3/1000\n",
    "relative_frequency4 = frequency4/1000\n",
    "print(f\"The relative frequency of jackpots in the first equation is: {relative_frequency1}\")\n",
    "print(f\"The relative frequency of jackpots in the second equation is: {relative_frequency2}\")"
   ]
  },
  {
   "cell_type": "code",
   "execution_count": 19,
   "metadata": {},
   "outputs": [
    {
     "data": {
      "image/png": "[encoded data removed]",
      "text/plain": [
       "<Figure size 640x480 with 1 Axes>"
      ]
     },
     "metadata": {},
     "output_type": "display_data"
    }
   ],
   "source": [
    "labels2 = ['Relative Frequency 3', 'Relative Frequency 4']\n",
    "values2 = [relative_frequency3, relative_frequency4]\n",
    "\n",
    "plt.bar(labels2, values2)\n",
    "\n",
    "plt.xlabel('Relative Frequency')\n",
    "plt.ylabel('Value')\n",
    "plt.title('Comparison of Relative Frequencies')\n",
    "\n",
    "plt.show()"
   ]
  },
  {
   "cell_type": "markdown",
   "metadata": {},
   "source": [
    "## Scenario 3: Letters of the Alphabet (7)\n",
    "\n",
    "Task 1. Create a \"die\" of letters from $A$ to $Z$ with weights based on their frequency of usage as found in the data file `english_letters.txt`. Use the frequencies (i.e. raw counts) as weights.\n",
    "\n",
    "- Die correctly instantiated with source file data (1).\n",
    "- Weights properly applied using weight setting method (1)."
   ]
  },
  {
   "cell_type": "code",
   "execution_count": 20,
   "metadata": {},
   "outputs": [
    {
     "data": {
      "text/html": [
       "<div>\n",
       "<style scoped>\n",
       "    .dataframe tbody tr th:only-of-type {\n",
       "        vertical-align: middle;\n",
       "    }\n",
       "\n",
       "    .dataframe tbody tr th {\n",
       "        vertical-align: top;\n",
       "    }\n",
       "\n",
       "    .dataframe thead th {\n",
       "        text-align: right;\n",
       "    }\n",
       "</style>\n",
       "<table border=\"1\" class=\"dataframe\">\n",
       "  <thead>\n",
       "    <tr style=\"text-align: right;\">\n",
       "      <th></th>\n",
       "      <th>Letter</th>\n",
       "      <th>Frequency</th>\n",
       "    </tr>\n",
       "  </thead>\n",
       "  <tbody>\n",
       "    <tr>\n",
       "      <th>25</th>\n",
       "      <td>Q</td>\n",
       "      <td>4550166</td>\n",
       "    </tr>\n",
       "    <tr>\n",
       "      <th>24</th>\n",
       "      <td>Z</td>\n",
       "      <td>4975847</td>\n",
       "    </tr>\n",
       "    <tr>\n",
       "      <th>23</th>\n",
       "      <td>X</td>\n",
       "      <td>8369915</td>\n",
       "    </tr>\n",
       "    <tr>\n",
       "      <th>22</th>\n",
       "      <td>J</td>\n",
       "      <td>9613410</td>\n",
       "    </tr>\n",
       "    <tr>\n",
       "      <th>21</th>\n",
       "      <td>K</td>\n",
       "      <td>35373464</td>\n",
       "    </tr>\n",
       "    <tr>\n",
       "      <th>20</th>\n",
       "      <td>V</td>\n",
       "      <td>46337161</td>\n",
       "    </tr>\n",
       "    <tr>\n",
       "      <th>19</th>\n",
       "      <td>B</td>\n",
       "      <td>70195826</td>\n",
       "    </tr>\n",
       "    <tr>\n",
       "      <th>18</th>\n",
       "      <td>Y</td>\n",
       "      <td>75294515</td>\n",
       "    </tr>\n",
       "    <tr>\n",
       "      <th>17</th>\n",
       "      <td>W</td>\n",
       "      <td>79843664</td>\n",
       "    </tr>\n",
       "    <tr>\n",
       "      <th>16</th>\n",
       "      <td>P</td>\n",
       "      <td>90376747</td>\n",
       "    </tr>\n",
       "    <tr>\n",
       "      <th>15</th>\n",
       "      <td>G</td>\n",
       "      <td>91258980</td>\n",
       "    </tr>\n",
       "    <tr>\n",
       "      <th>14</th>\n",
       "      <td>F</td>\n",
       "      <td>95422055</td>\n",
       "    </tr>\n",
       "    <tr>\n",
       "      <th>13</th>\n",
       "      <td>M</td>\n",
       "      <td>110504544</td>\n",
       "    </tr>\n",
       "    <tr>\n",
       "      <th>12</th>\n",
       "      <td>U</td>\n",
       "      <td>117295780</td>\n",
       "    </tr>\n",
       "    <tr>\n",
       "      <th>11</th>\n",
       "      <td>C</td>\n",
       "      <td>138416451</td>\n",
       "    </tr>\n",
       "    <tr>\n",
       "      <th>10</th>\n",
       "      <td>D</td>\n",
       "      <td>169330528</td>\n",
       "    </tr>\n",
       "    <tr>\n",
       "      <th>9</th>\n",
       "      <td>L</td>\n",
       "      <td>183996130</td>\n",
       "    </tr>\n",
       "    <tr>\n",
       "      <th>8</th>\n",
       "      <td>H</td>\n",
       "      <td>216768975</td>\n",
       "    </tr>\n",
       "    <tr>\n",
       "      <th>7</th>\n",
       "      <td>R</td>\n",
       "      <td>277000841</td>\n",
       "    </tr>\n",
       "    <tr>\n",
       "      <th>6</th>\n",
       "      <td>S</td>\n",
       "      <td>294300210</td>\n",
       "    </tr>\n",
       "    <tr>\n",
       "      <th>5</th>\n",
       "      <td>N</td>\n",
       "      <td>313720540</td>\n",
       "    </tr>\n",
       "    <tr>\n",
       "      <th>4</th>\n",
       "      <td>I</td>\n",
       "      <td>320410057</td>\n",
       "    </tr>\n",
       "    <tr>\n",
       "      <th>3</th>\n",
       "      <td>O</td>\n",
       "      <td>326627740</td>\n",
       "    </tr>\n",
       "    <tr>\n",
       "      <th>2</th>\n",
       "      <td>A</td>\n",
       "      <td>374061888</td>\n",
       "    </tr>\n",
       "    <tr>\n",
       "      <th>1</th>\n",
       "      <td>T</td>\n",
       "      <td>390965105</td>\n",
       "    </tr>\n",
       "    <tr>\n",
       "      <th>0</th>\n",
       "      <td>E</td>\n",
       "      <td>529117365</td>\n",
       "    </tr>\n",
       "  </tbody>\n",
       "</table>\n",
       "</div>"
      ],
      "text/plain": [
       "   Letter  Frequency\n",
       "25      Q    4550166\n",
       "24      Z    4975847\n",
       "23      X    8369915\n",
       "22      J    9613410\n",
       "21      K   35373464\n",
       "20      V   46337161\n",
       "19      B   70195826\n",
       "18      Y   75294515\n",
       "17      W   79843664\n",
       "16      P   90376747\n",
       "15      G   91258980\n",
       "14      F   95422055\n",
       "13      M  110504544\n",
       "12      U  117295780\n",
       "11      C  138416451\n",
       "10      D  169330528\n",
       "9       L  183996130\n",
       "8       H  216768975\n",
       "7       R  277000841\n",
       "6       S  294300210\n",
       "5       N  313720540\n",
       "4       I  320410057\n",
       "3       O  326627740\n",
       "2       A  374061888\n",
       "1       T  390965105\n",
       "0       E  529117365"
      ]
     },
     "execution_count": 20,
     "metadata": {},
     "output_type": "execute_result"
    }
   ],
   "source": [
    "letters = pd.read_csv('english_letters.txt', sep=\" \", header=None, names=['Letter', 'Frequency'])\n",
    "letters = letters.sort_values(by='Frequency', ascending=True)\n",
    "letters"
   ]
  },
  {
   "cell_type": "code",
   "execution_count": 21,
   "metadata": {},
   "outputs": [
    {
     "data": {
      "text/html": [
       "<div>\n",
       "<style scoped>\n",
       "    .dataframe tbody tr th:only-of-type {\n",
       "        vertical-align: middle;\n",
       "    }\n",
       "\n",
       "    .dataframe tbody tr th {\n",
       "        vertical-align: top;\n",
       "    }\n",
       "\n",
       "    .dataframe thead th {\n",
       "        text-align: right;\n",
       "    }\n",
       "</style>\n",
       "<table border=\"1\" class=\"dataframe\">\n",
       "  <thead>\n",
       "    <tr style=\"text-align: right;\">\n",
       "      <th></th>\n",
       "      <th>Letter</th>\n",
       "      <th>Frequency</th>\n",
       "      <th>Weight</th>\n",
       "    </tr>\n",
       "  </thead>\n",
       "  <tbody>\n",
       "    <tr>\n",
       "      <th>25</th>\n",
       "      <td>Q</td>\n",
       "      <td>4550166</td>\n",
       "      <td>0.001040</td>\n",
       "    </tr>\n",
       "    <tr>\n",
       "      <th>24</th>\n",
       "      <td>Z</td>\n",
       "      <td>4975847</td>\n",
       "      <td>0.001138</td>\n",
       "    </tr>\n",
       "    <tr>\n",
       "      <th>23</th>\n",
       "      <td>X</td>\n",
       "      <td>8369915</td>\n",
       "      <td>0.001914</td>\n",
       "    </tr>\n",
       "    <tr>\n",
       "      <th>22</th>\n",
       "      <td>J</td>\n",
       "      <td>9613410</td>\n",
       "      <td>0.002198</td>\n",
       "    </tr>\n",
       "    <tr>\n",
       "      <th>21</th>\n",
       "      <td>K</td>\n",
       "      <td>35373464</td>\n",
       "      <td>0.008087</td>\n",
       "    </tr>\n",
       "  </tbody>\n",
       "</table>\n",
       "</div>"
      ],
      "text/plain": [
       "   Letter  Frequency    Weight\n",
       "25      Q    4550166  0.001040\n",
       "24      Z    4975847  0.001138\n",
       "23      X    8369915  0.001914\n",
       "22      J    9613410  0.002198\n",
       "21      K   35373464  0.008087"
      ]
     },
     "execution_count": 21,
     "metadata": {},
     "output_type": "execute_result"
    }
   ],
   "source": [
    "letters['Weight'] = letters['Frequency'] / letters['Frequency'].sum()\n",
    "letters.head(5)"
   ]
  },
  {
   "cell_type": "markdown",
   "metadata": {},
   "source": [
    "Task 2. Play a game involving $4$ of these dice with $1000$ rolls.\n",
    "\n",
    "- Game play method properly called (1)."
   ]
  },
  {
   "cell_type": "code",
   "execution_count": 22,
   "metadata": {},
   "outputs": [
    {
     "data": {
      "text/plain": [
       "{'Q': 0.0010402453014323196,\n",
       " 'Z': 0.001137563214703838,\n",
       " 'X': 0.0019135048594134572,\n",
       " 'J': 0.002197788956104563,\n",
       " 'K': 0.008086975227142329,\n",
       " 'V': 0.01059346274662571,\n",
       " 'B': 0.016047959168228293,\n",
       " 'Y': 0.017213606152473405,\n",
       " 'W': 0.018253618950416498,\n",
       " 'P': 0.020661660788966266,\n",
       " 'G': 0.020863354250923158,\n",
       " 'F': 0.021815103969122528,\n",
       " 'M': 0.025263217360184446,\n",
       " 'U': 0.026815809362304373,\n",
       " 'C': 0.03164435380900101,\n",
       " 'D': 0.03871183735737418,\n",
       " 'L': 0.04206464329306453,\n",
       " 'H': 0.04955707280570641,\n",
       " 'R': 0.0633271013284023,\n",
       " 'S': 0.06728203117491646,\n",
       " 'N': 0.07172184876283856,\n",
       " 'I': 0.0732511860723129,\n",
       " 'O': 0.07467265410810447,\n",
       " 'A': 0.08551690673195275,\n",
       " 'T': 0.08938126949659495,\n",
       " 'E': 0.1209652247516903}"
      ]
     },
     "execution_count": 22,
     "metadata": {},
     "output_type": "execute_result"
    }
   ],
   "source": [
    "letters_die = {row['Letter']: row['Weight'] for i, row in letters.iterrows()}\n",
    "letters_die"
   ]
  },
  {
   "cell_type": "code",
   "execution_count": 23,
   "metadata": {},
   "outputs": [
    {
     "data": {
      "text/plain": [
       "array([['R', 'R', 'I', ..., 'T', 'T', 'W'],\n",
       "       ['I', 'L', 'O', ..., 'A', 'D', 'O'],\n",
       "       ['H', 'T', 'N', ..., 'S', 'T', 'A'],\n",
       "       ['U', 'N', 'E', ..., 'P', 'K', 'O']], dtype='<U1')"
      ]
     },
     "execution_count": 23,
     "metadata": {},
     "output_type": "execute_result"
    }
   ],
   "source": [
    "faces_letters = np.array(list(letters_die.keys()))\n",
    "weights_letters = np.array(list(letters_die.values()))\n",
    "dice_letters = [Die(faces_letters, weights_letters) for i in range(4)]\n",
    "game_letters = Game(dice_letters, 1000)\n",
    "\n",
    "game_letters.play(1000)"
   ]
  },
  {
   "cell_type": "markdown",
   "metadata": {},
   "source": [
    "Task 3. Determine how many permutations in your results are actual English words, based on the vocabulary found in `scrabble_words.txt`.\n",
    "\n",
    "- Use permutation method (1).\n",
    "- Get count as difference between permutations and vocabulary (1)."
   ]
  },
  {
   "cell_type": "code",
   "execution_count": 24,
   "metadata": {},
   "outputs": [
    {
     "name": "stdout",
     "output_type": "stream",
     "text": [
      "Matched permutations:\n",
      " Empty DataFrame\n",
      "Columns: [counts]\n",
      "Index: []\n",
      "Matched permutations:\n",
      " Empty DataFrame\n",
      "Columns: [counts]\n",
      "Index: []\n"
     ]
    }
   ],
   "source": [
    "scrabble = pd.read_csv('scrabble_words.txt', sep=\" \", header=None, names=['Word'])\n",
    "scrabble['Word']=scrabble['Word'].astype(str)\n",
    "\n",
    "\n",
    "scrabble_tuples = [tuple(word) for word in scrabble['Word']]\n",
    "\n",
    "analyzer_last = Analyzer(game_letters)\n",
    "permutations = analyzer_last.permutation_count()\n",
    "\n",
    "permutation_tuples = permutations.index.to_list()\n",
    "\n",
    "matching_permutations = [match for match in permutation_tuples if match in scrabble_tuples]\n",
    "matched_permutations = permutations.loc[matching_permutations]\n",
    "\n",
    "print(\"Matched permutations:\\n\", matched_permutations)\n",
    "analyzer_last = Analyzer(game_letters)\n",
    "permutations = analyzer_last.permutation_count()\n",
    "\n",
    "\n",
    "print(\"Matched permutations:\\n\", matched_permutations)\n"
   ]
  },
  {
   "cell_type": "markdown",
   "metadata": {},
   "source": [
    "Task 4. Repeat steps #2 and #3, this time with $5$ dice. How many actual words does this produce? Which produces more?\n",
    "\n",
    "- Successfully repreats steps (1).\n",
    "- Identifies parameter with most found words (1)."
   ]
  },
  {
   "cell_type": "code",
   "execution_count": 27,
   "metadata": {},
   "outputs": [
    {
     "data": {
      "text/plain": [
       "array([['F', 'P', 'S', ..., 'E', 'E', 'O'],\n",
       "       ['F', 'E', 'N', ..., 'D', 'U', 'E'],\n",
       "       ['N', 'C', 'A', ..., 'C', 'E', 'O'],\n",
       "       ['T', 'N', 'T', ..., 'S', 'N', 'O'],\n",
       "       ['A', 'A', 'A', ..., 'I', 'S', 'I']], dtype='<U1')"
      ]
     },
     "execution_count": 27,
     "metadata": {},
     "output_type": "execute_result"
    }
   ],
   "source": [
    "faces_letters = np.array(list(letters_die.keys()))\n",
    "weights_letters = np.array(list(letters_die.values()))\n",
    "dice_letters5 = [Die(faces_letters, weights_letters) for i in range(5)]\n",
    "game_letters5 = Game(dice_letters5, 1000)\n",
    "\n",
    "game_letters5.play(1000)"
   ]
  },
  {
   "cell_type": "code",
   "execution_count": 28,
   "metadata": {},
   "outputs": [
    {
     "name": "stdout",
     "output_type": "stream",
     "text": [
      "Matched permutations:\n",
      " Empty DataFrame\n",
      "Columns: [counts]\n",
      "Index: []\n"
     ]
    }
   ],
   "source": [
    "scrabble_tuples = [tuple(word) for word in scrabble['Word']]\n",
    "\n",
    "analyzer_final = Analyzer(game_letters)\n",
    "permutations = analyzer_final.permutation_count()\n",
    "\n",
    "permutation_tuples = permutations.index.to_list()\n",
    "\n",
    "matching_permutations = [match for match in permutation_tuples if match in scrabble_tuples]\n",
    "matched_permutations = permutations.loc[matching_permutations]\n",
    "\n",
    "print(\"Matched permutations:\\n\", matched_permutations)"
   ]
  },
  {
   "cell_type": "code",
   "execution_count": null,
   "metadata": {},
   "outputs": [],
   "source": []
  }
 ],
 "metadata": {
  "kernelspec": {
   "display_name": "Python 3 (ipykernel)",
   "language": "python",
   "name": "python3"
  },
  "language_info": {
   "codemirror_mode": {
    "name": "ipython",
    "version": 3
   },
   "file_extension": ".py",
   "mimetype": "text/x-python",
   "name": "python",
   "nbconvert_exporter": "python",
   "pygments_lexer": "ipython3",
   "version": "3.11.7"
  }
 },
 "nbformat": 4,
 "nbformat_minor": 4
}
